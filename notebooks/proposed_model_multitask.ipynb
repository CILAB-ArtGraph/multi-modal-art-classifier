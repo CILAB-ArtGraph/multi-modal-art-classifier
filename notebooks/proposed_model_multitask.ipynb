{
 "cells": [
  {
   "cell_type": "code",
   "execution_count": 1,
   "metadata": {},
   "outputs": [],
   "source": [
    "import os\n",
    "from torch.nn.modules import dropout\n",
    "from tqdm import tqdm\n",
    "import torch\n",
    "import mlflow\n",
    "\n",
    "from models.models_kg import NewMultiModalMultiTask, NewMultiModalMultiTaskViT\n",
    "from models.models import EarlyStopping\n",
    "from utils import load_dataset_multitask_new_multimodal, prepare_dataloader, tracker_multitask, track_params, get_class_weights, get_base_arguments\n",
    "import config"
   ]
  },
  {
   "cell_type": "code",
   "execution_count": 6,
   "metadata": {},
   "outputs": [
    {
     "data": {
      "text/plain": [
       "_StoreAction(option_strings=['--architecture'], dest='architecture', nargs=None, const=None, default='vit', type=<class 'str'>, choices=None, help='Architecture (resnet|vit).', metavar=None)"
      ]
     },
     "execution_count": 6,
     "metadata": {},
     "output_type": "execute_result"
    }
   ],
   "source": [
    "torch.manual_seed(1)\n",
    "\n",
    "parser = get_base_arguments()\n",
    "parser.add_argument('--emb_desc', type=str, default='new multimodal multitask', help='Experiment description.')\n",
    "parser.add_argument('--emb_type', type=str, default='genre', help='Embedding type (artwork|genre|style).')\n",
    "parser.add_argument('--emb_train_genre', type=str, default='gnn_genre_embs_graph.pt', help='Embedding genre train file name.')\n",
    "parser.add_argument('--emb_valid_genre', type=str, default='gnn_genre_valid_embs_graph.pt', help='Embedding genre valid file name.')\n",
    "parser.add_argument('--emb_test_genre', type=str, default='gnn_genre_test_embs_graph.pt', help='Embedding genre test file name.')\n",
    "parser.add_argument('--emb_train_style', type=str, default='gnn_style_embs_graph.pt', help='Embedding style train file name.')\n",
    "parser.add_argument('--emb_valid_style', type=str, default='gnn_style_valid_embs_graph.pt', help='Embedding style valid file name.')\n",
    "parser.add_argument('--emb_test_style', type=str, default='gnn_style_test_embs_graph.pt', help='Embedding style test file name.')\n",
    "parser.add_argument('--dropout', type=float, default=0.4, help='Dropout.')\n",
    "parser.add_argument('--architecture', type=str, default='vit', help='Architecture (resnet|vit).')\n"
   ]
  },
  {
   "cell_type": "code",
   "execution_count": 8,
   "metadata": {},
   "outputs": [],
   "source": [
    "args = parser.parse_args(args=[])"
   ]
  },
  {
   "cell_type": "code",
   "execution_count": 9,
   "metadata": {},
   "outputs": [
    {
     "data": {
      "text/plain": [
       "0.4"
      ]
     },
     "execution_count": 9,
     "metadata": {},
     "output_type": "execute_result"
    }
   ],
   "source": [
    "args.dropout"
   ]
  },
  {
   "cell_type": "code",
   "execution_count": 10,
   "metadata": {},
   "outputs": [],
   "source": [
    "dataset_train, dataset_valid, dataset_test = load_dataset_multitask_new_multimodal(\n",
    "    base_dir = args.dataset_path, image_dir = args.image_path, emb_type = args.emb_type,\n",
    "    emb_train = {'style': args.emb_train_style, 'genre': args.emb_train_genre},\n",
    "    emb_valid = {'style': args.emb_valid_style, 'genre': args.emb_valid_genre},\n",
    "    emb_test = {'style': args.emb_test_style, 'genre': args.emb_test_genre})"
   ]
  },
  {
   "cell_type": "code",
   "execution_count": 11,
   "metadata": {},
   "outputs": [],
   "source": [
    "data_loaders = prepare_dataloader({'train': dataset_train, 'valid': dataset_valid, 'test': dataset_test},\n",
    "                                                  batch_size = args.batch, num_workers = 6, shuffle = True,\n",
    "                                                  drop_last = False, pin_memory = True)"
   ]
  },
  {
   "cell_type": "code",
   "execution_count": 12,
   "metadata": {},
   "outputs": [],
   "source": [
    "num_classes = {\n",
    "    'genre': 18,\n",
    "    'style': 32\n",
    "}"
   ]
  },
  {
   "cell_type": "code",
   "execution_count": 13,
   "metadata": {},
   "outputs": [],
   "source": [
    "if args.architecture == 'resnet':\n",
    "    model = NewMultiModalMultiTask(emb_size = 128, num_classes = num_classes, dropout=args.dropout)\n",
    "else:\n",
    "    model = NewMultiModalMultiTaskViT(emb_size = 128, num_classes = num_classes, dropout=args.dropout)\n",
    "model = model.to('cuda', non_blocking=True)"
   ]
  },
  {
   "cell_type": "code",
   "execution_count": 14,
   "metadata": {},
   "outputs": [],
   "source": [
    "if args.with_weights:\n",
    "    class_weights_genre = get_class_weights(dataset_train, num_classes['genre'], 'genre').to('cuda')\n",
    "    class_weights_style = get_class_weights(dataset_train, num_classes['style'], 'style').to('cuda')\n",
    "    criterion_style = torch.nn.CrossEntropyLoss(class_weights_style)\n",
    "    criterion_genre = torch.nn.CrossEntropyLoss(class_weights_genre)\n",
    "else:\n",
    "    criterion_style = torch.nn.CrossEntropyLoss()\n",
    "    criterion_genre = torch.nn.CrossEntropyLoss()\n",
    "optimizer = torch.optim.Adam(model.parameters(), lr = args.lr)"
   ]
  },
  {
   "cell_type": "code",
   "execution_count": 15,
   "metadata": {},
   "outputs": [],
   "source": [
    "checkpoint_name = os.path.join(config.CHECKPOINTS_DIR, f'new-multimodal_multi-task_checkpoint.pt')\n",
    "early_stop = EarlyStopping(patience = 3, min_delta = 0.001, checkpoint_path = checkpoint_name)\n"
   ]
  },
  {
   "cell_type": "code",
   "execution_count": 16,
   "metadata": {},
   "outputs": [],
   "source": [
    "@tracker_multitask(args.tracking, 'train')\n",
    "def train(epoch):\n",
    "    model.train()\n",
    "\n",
    "    total_loss = total_examples = 0 \n",
    "    total_style_correct = total_genre_correct = 0\n",
    "    for images, style_embeddings, genre_embeddings, labels in tqdm(data_loaders['train']):\n",
    "        images = images.to('cuda', non_blocking=True)\n",
    "        style_labels = labels[0].to('cuda', non_blocking=True)\n",
    "        genre_labels = labels[1].to('cuda', non_blocking=True)\n",
    "        style_embeddings = style_embeddings.to('cuda', non_blocking = True)\n",
    "        genre_embeddings = genre_embeddings.to('cuda', non_blocking = True)\n",
    "\n",
    "        optimizer.zero_grad()\n",
    "\n",
    "        with torch.cuda.amp.autocast():\n",
    "            out = model(images, style_embeddings, genre_embeddings)\n",
    "\n",
    "            style_loss = 0.5 * criterion_style(out[0], style_labels)\n",
    "            genre_loss = 0.5 * criterion_genre(out[1], genre_labels)\n",
    "            loss = style_loss + genre_loss\n",
    "        loss.backward()\n",
    "        optimizer.step()\n",
    "\n",
    "        total_loss = total_loss + loss.item() * images.size(0)\n",
    "        total_style_correct = total_style_correct + out[0].argmax(dim=1).eq(style_labels).sum()\n",
    "        total_genre_correct = total_genre_correct + out[1].argmax(dim=1).eq(genre_labels).sum()\n",
    "        total_examples = total_examples + len(images)\n",
    "\n",
    "    return total_loss/total_examples, total_style_correct/total_examples, total_genre_correct/total_examples, epoch\n"
   ]
  },
  {
   "cell_type": "code",
   "execution_count": 18,
   "metadata": {},
   "outputs": [],
   "source": [
    "@tracker_multitask(args.tracking, 'valid')\n",
    "def valid(epoch):\n",
    "    model.eval()\n",
    "\n",
    "    total_loss = total_examples = 0\n",
    "    total_style_correct = total_genre_correct = 0\n",
    "\n",
    "    with torch.no_grad():\n",
    "        for images, style_embeddings, genre_embeddings, labels in tqdm(data_loaders['valid']):\n",
    "            images = images.to('cuda', non_blocking=True)\n",
    "            style_labels = labels[0].to('cuda', non_blocking=True)\n",
    "            genre_labels = labels[1].to('cuda', non_blocking=True)\n",
    "            style_embeddings = style_embeddings.to('cuda', non_blocking = True)\n",
    "            genre_embeddings = genre_embeddings.to('cuda', non_blocking = True)\n",
    "\n",
    "            with torch.cuda.amp.autocast():\n",
    "                out = model(images, style_embeddings, genre_embeddings)\n",
    "\n",
    "                style_loss = 0.5 * criterion_style(out[0], style_labels)\n",
    "                genre_loss = 0.5 * criterion_genre(out[1], genre_labels)\n",
    "                loss = style_loss + genre_loss\n",
    "                total_loss = total_loss + loss.item() * images.size(0)\n",
    "\n",
    "            total_style_correct = total_style_correct + out[0].argmax(dim=1).eq(style_labels).sum()\n",
    "            total_genre_correct = total_genre_correct + out[1].argmax(dim=1).eq(genre_labels).sum()\n",
    "            total_examples = total_examples + len(images)\n",
    "\n",
    "    epoch_loss = total_loss/total_examples\n",
    "    epoch_style_acc = total_style_correct/total_examples\n",
    "    epoch_genre_acc = total_genre_correct/total_examples\n",
    "\n",
    "    early_stop(epoch_loss, model)\n",
    "\n",
    "    return epoch_loss, epoch_style_acc, epoch_genre_acc, epoch"
   ]
  },
  {
   "cell_type": "code",
   "execution_count": 19,
   "metadata": {},
   "outputs": [],
   "source": [
    "@torch.no_grad()\n",
    "def test():\n",
    "\n",
    "    model = NewMultiModalMultiTask(emb_size = 128, num_classes = num_classes, dropout=0)\n",
    "    model.load_state_dict(torch.load(checkpoint_name))\n",
    "    model = model.to('cuda', non_blocking=True)\n",
    "\n",
    "    model.eval()\n",
    "\n",
    "    total_style_correct = total_genre_correct = 0\n",
    "    total_examples = 0\n",
    "\n",
    "    for images, style_embeddings, genre_embeddings, labels in tqdm(data_loaders['test']):\n",
    "        images = images.to('cuda', non_blocking=True)\n",
    "        style_labels = labels[0].to('cuda', non_blocking=True)\n",
    "        genre_labels = labels[1].to('cuda', non_blocking=True)\n",
    "        style_embeddings = style_embeddings.to('cuda', non_blocking = True)\n",
    "        genre_embeddings = genre_embeddings.to('cuda', non_blocking = True)\n",
    "\n",
    "        with torch.cuda.amp.autocast():\n",
    "              out = model(images, style_embeddings, genre_embeddings)\n",
    "\n",
    "        total_style_correct = total_style_correct + out[0].argmax(dim=1).eq(style_labels).sum()\n",
    "        total_genre_correct = total_genre_correct + out[1].argmax(dim=1).eq(genre_labels).sum()\n",
    "        total_examples = total_examples + len(images)\n",
    "\n",
    "    epoch_style_acc = total_style_correct/total_examples\n",
    "    epoch_genre_acc = total_genre_correct/total_examples\n",
    "\n",
    "    return epoch_style_acc, epoch_genre_acc"
   ]
  },
  {
   "cell_type": "code",
   "execution_count": null,
   "metadata": {},
   "outputs": [],
   "source": [
    "if args.tracking:\n",
    "    track_params(args)\n",
    "\n",
    "for epoch in range(args.epochs):\n",
    "    loss, style_acc, genre_acc, _ = train(epoch)\n",
    "    print(f'Train loss: {loss}; train style accuracy: {style_acc}; train genre accuracy {genre_acc}')\n",
    "    loss, style_acc, genre_acc, _= valid(epoch)\n",
    "    print(f'Validation loss: {loss}; validation style accuracy: {style_acc}; validation genre accuracy {genre_acc}')\n",
    "\n",
    "style_acc, genre_acc = test()\n",
    "print(f'Test style accuracy: {style_acc}; test genre accuracy: {genre_acc}')\n",
    "if args.tracking:\n",
    "    mlflow.log_metric(f'test style acc', style_acc.item())\n",
    "    mlflow.log_metric(f'test genre acc', genre_acc.item())"
   ]
  }
 ],
 "metadata": {
  "interpreter": {
   "hash": "7f90957554328171fb73eb10a4793c81104a7c1202e44d63af319829a2fc6fd0"
  },
  "kernelspec": {
   "display_name": "Python 3.9.7 64-bit ('artgraph': conda)",
   "language": "python",
   "name": "python3"
  },
  "language_info": {
   "codemirror_mode": {
    "name": "ipython",
    "version": 3
   },
   "file_extension": ".py",
   "mimetype": "text/x-python",
   "name": "python",
   "nbconvert_exporter": "python",
   "pygments_lexer": "ipython3",
   "version": "3.9.7"
  },
  "orig_nbformat": 4
 },
 "nbformat": 4,
 "nbformat_minor": 2
}
